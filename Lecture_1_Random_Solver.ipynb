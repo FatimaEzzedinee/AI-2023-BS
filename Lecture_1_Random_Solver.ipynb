{
 "cells": [
  {
   "cell_type": "markdown",
   "metadata": {
    "collapsed": true,
    "id": "DavnOBwQ2_aL"
   },
   "source": [
    "## First Lab\n",
    "\n",
    "What we are going to do today:\n",
    "- read TSP data\n",
    "- define euclidean distance function\n",
    "- define a ProblemInstance python class \n",
    "- store nodes in an instance of the class defined before\n",
    "- plot raw data\n",
    "- generate naive solution \n",
    "- check if the solution is valid\n",
    "- evaluate solution!\n",
    "\n",
    "NOTE: I've marked all the code that you will have to fill with a `# TODO` comment\n"
   ]
  },
  {
   "cell_type": "markdown",
   "metadata": {
    "id": "A56HlsOG2_aQ"
   },
   "source": [
    "This cell below is simply importing some useful stuff for later"
   ]
  },
  {
   "cell_type": "code",
   "execution_count": null,
   "metadata": {
    "id": "-c-1eDC92_aS"
   },
   "outputs": [],
   "source": [
    "import glob\n",
    "import numpy as np\n",
    "from matplotlib import pyplot as plt"
   ]
  },
  {
   "cell_type": "markdown",
   "metadata": {
    "id": "eg1ejN9z2_aT"
   },
   "source": [
    "### Read TSP data\n",
    "In this Cup you will have to deal with predefined set of problems. These problems are located in the `problems` folder.\n",
    "\n",
    "First lets get list them out"
   ]
  },
  {
   "cell_type": "code",
   "execution_count": null,
   "metadata": {
    "colab": {
     "base_uri": "https://localhost:8080/"
    },
    "id": "Nlp4SeQw2_aU",
    "outputId": "ad287d06-943d-48e4-a3bd-688adadf7c34"
   },
   "outputs": [],
   "source": [
    "problems = glob.glob('../problems/*.tsp')\n",
    "# example_problem = [\"AI2022BS/problems/eil76.tsp\"]\n",
    "for prob in problems:\n",
    "    print(prob[12:])"
   ]
  },
  {
   "cell_type": "markdown",
   "metadata": {
    "id": "lBojG9WC2_aV"
   },
   "source": [
    "Checking by hand if all of the 10 problems are in the folder would be a waste of time so we can write a line of code just to check if they are all there"
   ]
  },
  {
   "cell_type": "code",
   "execution_count": null,
   "metadata": {
    "colab": {
     "base_uri": "https://localhost:8080/"
    },
    "id": "VEPTGiM72_aW",
    "outputId": "a9a38b71-41bb-4975-e301-b0fe75cb1ddd"
   },
   "outputs": [],
   "source": [
    "print(np.all([n[12:] in ['fl1577.tsp','pr439.tsp','ch130.tsp','rat783.tsp','d198.tsp', 'kroA100.tsp','u1060.tsp','lin318.tsp','eil76.tsp','pcb442.tsp'] for n in problems]))"
   ]
  },
  {
   "cell_type": "markdown",
   "metadata": {
    "id": "AidTvgtd2_aW"
   },
   "source": [
    "#### File format\n",
    "All the problems are stored in a `.tsp` (this file is actually a renamed `.txt` file, so you could open them with your favorite text editor)\n",
    "\n",
    "As we will see in a bit all the problems files are composed of different sections:\n",
    "* `NAME`: the shortned name of the problem\n",
    "* `COMMENT`: a comment area that can contain the full name of the problem\n",
    "* `TYPE`: this defines the type of problem at hand, in our case is always TSP\n",
    "* `DIMENSION`: this states the problem dimension\n",
    "* `EDGE_WEIGHT_TYPE`: this section states the types of weights applied to edges, in our case it is always EUC_2D or the weights are giveng using the euclidean distance in 2 dimension\n",
    "* `BEST_KNOWN`: this states the best known result obtained, note that as the Prof said, it is unlikely to get a better performance than this\n",
    "* `NODE_COORD_SECTION`: finally we have the section that states the triplets that defines the problems points. These triplets are (point_number, x,y).\n",
    "\n",
    "Now that we know all of that, lets print the content of a single problem"
   ]
  },
  {
   "cell_type": "code",
   "execution_count": null,
   "metadata": {
    "colab": {
     "base_uri": "https://localhost:8080/"
    },
    "id": "5PJZzhc42_aX",
    "outputId": "6cad8176-ed79-4ecf-fc1e-0e5bd09f7eab"
   },
   "outputs": [],
   "source": [
    "example_problem = \"../problems/eil76.tsp\"\n",
    "with open(example_problem,\"r\") as exprob:\n",
    "    print(exprob.read().splitlines())"
   ]
  },
  {
   "cell_type": "markdown",
   "metadata": {
    "id": "CRy8bEen2_aY"
   },
   "source": [
    "### Euclidean Distance\n",
    "Since all of our problems are using the euclidean distance between points for the edges weights.\n",
    "We will now define a function that computes the euclidean distance. This distance will also be used to build the distance matrix"
   ]
  },
  {
   "cell_type": "code",
   "execution_count": null,
   "metadata": {
    "id": "HvawRPVl2_aZ"
   },
   "outputs": [],
   "source": [
    "def distance_euc(point_i, point_j):\n",
    "    rounding = 0\n",
    "    x_i, y_i = point_i[0], point_i[1]\n",
    "    x_j, y_j = point_j[0], point_j[1]\n",
    "    distance = np.sqrt((x_i - x_j) ** 2 + (y_i - y_j) ** 2)\n",
    "    return round(distance, rounding)"
   ]
  },
  {
   "cell_type": "markdown",
   "metadata": {
    "id": "lB3WL3mj2_aZ"
   },
   "source": [
    "Let's test it"
   ]
  },
  {
   "cell_type": "code",
   "execution_count": null,
   "metadata": {
    "colab": {
     "base_uri": "https://localhost:8080/"
    },
    "id": "SqcLycl12_ab",
    "outputId": "6055112f-bb8e-4f88-eca9-341469d0b4ae"
   },
   "outputs": [],
   "source": [
    "point_1 = (2, 2)\n",
    "point_2 = (5, 5)\n",
    "distance_euc(point_1, point_2)\n",
    "# Expected output is 4.0 with rounding to 0 "
   ]
  },
  {
   "cell_type": "markdown",
   "metadata": {
    "id": "VHbmBUD02_ab"
   },
   "source": [
    "### Reading and storing the data\n",
    "We will now define a Class called `ProblemInstance`\n",
    "\n",
    "in the Constructor of the class (`__init__()`method of a class in Python) you will have to implement the code for:\n",
    "* reading the raw data\n",
    "* store the metadata\n",
    "* read all the point and store them\n",
    "* code the method that creates the distance matrix between points\n",
    "* \\[optional\\] check if the problem loaded has an optimal and in that case store the optimal solution\n",
    "* \\[optional\\] code the plotting method\n"
   ]
  },
  {
   "cell_type": "code",
   "execution_count": null,
   "metadata": {
    "id": "E8B2pHBa2_ac"
   },
   "outputs": [],
   "source": [
    "class ProblemInstance:\n",
    "\n",
    "    def __init__(self, name_tsp):\n",
    "        self.exist_opt = False\n",
    "        self.optimal_tour = None\n",
    "        self.dist_matrix = None\n",
    "        \n",
    "        # read raw data  \n",
    "        with open(name_tsp) as f_o:\n",
    "            data= f_o.read()\n",
    "            self.lines = data.splitlines()\n",
    "\n",
    "        # TODO\n",
    "        # store metadata set information \n",
    "        self.name = ...\n",
    "        # here we expect the name of the problem\n",
    "\n",
    "        self.nPoints =  ...\n",
    "        # here we expect the number of points in the considered instance\n",
    "        \n",
    "        self.best_sol = ...\n",
    "        # here the lenght of the best solution\n",
    "        \n",
    "        \n",
    "        # read all data points and store them \n",
    "        self.points = np.zeros((self.nPoints, 3)) # this is the structure where we will store the pts data \n",
    "        for i in range(self.nPoints):\n",
    "            ...\n",
    "\n",
    "        self.create_dist_matrix()\n",
    "        \n",
    "        # TODO [optional]\n",
    "        # if the problem is one with a optimal solution, that solution is loaded\n",
    "        self.optimal_tour = np.zeros(self.nPoints, dtype=int)\n",
    "        if name_tsp in [\"../problems/eil76.tsp\", \"../problems/kroA100.tsp\"]:\n",
    "            self.exist_opt = True\n",
    "            file_object = open(name_tsp.replace(\".tsp\", \".opt.tour\"))\n",
    "            data = file_object.read()\n",
    "            file_object.close()\n",
    "            lines = data.splitlines()\n",
    "\n",
    "            # read all data points and store them\n",
    "            self.optimal_tour = np.zeros(self.nPoints, dtype=int)\n",
    "            for i in range(self.nPoints):\n",
    "                line_i = lines[5 + i].split(' ')\n",
    "                self.optimal_tour[i] = int(line_i[0]) - 1\n",
    "\n",
    "\n",
    "    def print_info(self):\n",
    "        print(\"\\n#############################\\n\")\n",
    "        print('name: ' + self.name)\n",
    "        print('nPoints: ' + str(self.nPoints))\n",
    "        print('best_sol: ' + str(self.best_sol))\n",
    "        print('exist optimal: ' + str(self.exist_opt))\n",
    "\n",
    "    def plot_data(self,show_numbers=False):\n",
    "        plt.figure(figsize=(8, 8))\n",
    "        plt.title(self.name)\n",
    "        plt.scatter(self.points[:, 1], self.points[:, 2])\n",
    "        if show_numbers:\n",
    "            for i, txt in enumerate(np.arange(self.nPoints)): \n",
    "                plt.annotate(txt, (self.points[i, 1], self.points[i, 2]))\n",
    "        plt.show()\n",
    "\n",
    "    def create_dist_matrix(self): # TODO\n",
    "        self.dist_matrix = np.zeros((self.nPoints, self.nPoints))\n",
    "        for i in range(self.nPoints):\n",
    "            ...\n",
    "\n",
    "        self.dist_matrix += self.dist_matrix.T\n"
   ]
  },
  {
   "cell_type": "markdown",
   "metadata": {
    "id": "APxM3ouk2_ad"
   },
   "source": [
    "------------------------\n",
    "Now we can test our Class with an example problem"
   ]
  },
  {
   "cell_type": "code",
   "execution_count": null,
   "metadata": {
    "id": "BEAe-Jn72_ad"
   },
   "outputs": [],
   "source": [
    "example_problem = \"../problems/eil76.tsp\"\n",
    "p_inst=ProblemInstance(example_problem)"
   ]
  },
  {
   "cell_type": "code",
   "execution_count": null,
   "metadata": {
    "colab": {
     "base_uri": "https://localhost:8080/",
     "height": 642
    },
    "id": "FRsAqqHr2_ae",
    "outputId": "1d4bc7e9-9179-44eb-ea90-0bf98c63f141"
   },
   "outputs": [],
   "source": [
    "p_inst.print_info()\n",
    "p_inst.plot_data()\n",
    "#Expected output\n",
    "\"\"\"\n",
    "#############################\n",
    "\n",
    "name: eil76\n",
    "nPoints: 76\n",
    "best_sol: 538.0\n",
    "exist optimal: True\n",
    "\n",
    "\"\"\""
   ]
  },
  {
   "cell_type": "code",
   "execution_count": null,
   "metadata": {
    "colab": {
     "base_uri": "https://localhost:8080/",
     "height": 499
    },
    "id": "yq0ANvoC2_ae",
    "outputId": "6b11931c-0707-457d-d7b3-f556a26b1f46",
    "scrolled": false
   },
   "outputs": [],
   "source": [
    "p_inst.plot_data(show_numbers=True)"
   ]
  },
  {
   "cell_type": "markdown",
   "metadata": {
    "id": "WjCTdGdK2_af"
   },
   "source": [
    "-------------\n",
    "### Random solver \n",
    "Now we will code the random solver and test it with a class called `SolverTSP` that takes the solvers and the problem instance and act as a framework to compute the solution and gives us some additional information.\n",
    "We will also need to code the `evaluate_solution` method of the the `SolverTSP` class"
   ]
  },
  {
   "cell_type": "code",
   "execution_count": null,
   "metadata": {
    "id": "K-jm3cj42_af"
   },
   "outputs": [],
   "source": [
    "import random\n",
    "\n",
    "def random_method(instance_): # TODO\n",
    "    pass\n",
    "    \n",
    "available_methods = {\"random\": random_method}"
   ]
  },
  {
   "cell_type": "code",
   "execution_count": null,
   "metadata": {
    "colab": {
     "base_uri": "https://localhost:8080/"
    },
    "id": "u6E9oIlSshRL",
    "outputId": "cc1893aa-f2da-4176-807d-a15d40e20585"
   },
   "outputs": [],
   "source": [
    "print(random_method(p_inst))"
   ]
  },
  {
   "cell_type": "code",
   "execution_count": null,
   "metadata": {
    "id": "7rtm0PHg2_af"
   },
   "outputs": [],
   "source": [
    "from time import time as t\n",
    "\n",
    "class SolverTSP:\n",
    "    def __init__(self, algorithm_name, problem_instance):\n",
    "        self.duration = np.inf\n",
    "        self.found_length = np.inf\n",
    "        self.algorithm_name = algorithm_name\n",
    "        self.name_method = \"initialized with \" + algorithm_name\n",
    "        self.solved = False\n",
    "        self.problem_instance = problem_instance\n",
    "        self.solution = None\n",
    "\n",
    "    def compute_solution(self, verbose=True, return_value=True):\n",
    "        self.solved = False\n",
    "        if verbose:\n",
    "            print(f\"###  solving with {self.algorithm_name}  ####\")\n",
    "        start_time = t()\n",
    "        self.solution = available_methods[self.algorithm_name](self.problem_instance)\n",
    "        assert self.check_if_solution_is_valid(self.solution), \"Error the solution is not valid\"\n",
    "        end_time = t()\n",
    "        self.duration = np.around(end_time - start_time, 3)\n",
    "        if verbose:\n",
    "            print(f\"###  solved  ####\")\n",
    "        self.solved = True\n",
    "        self.evaluate_solution()\n",
    "        self._gap()\n",
    "        if return_value:\n",
    "            return self.solution\n",
    "\n",
    "    def plot_solution(self):\n",
    "        assert self.solved, \"You can't plot the solution, you need to compute it first!\"\n",
    "        plt.figure(figsize=(8, 8))\n",
    "        self._gap()\n",
    "        plt.title(f\"{self.problem_instance.name} solved with {self.name_method} solver, gap {self.gap}\")\n",
    "        ordered_points = self.problem_instance.points[self.solution]\n",
    "        plt.plot(ordered_points[:, 1], ordered_points[:, 2], 'b-')\n",
    "        plt.show()\n",
    "\n",
    "    def check_if_solution_is_valid(self, solution):\n",
    "        rights_values = np.sum([self.check_validation(i, solution) for i in np.arange(self.problem_instance.nPoints)])\n",
    "        if  rights_values == self.problem_instance.nPoints:\n",
    "            return True\n",
    "        else:\n",
    "            return False \n",
    "        \n",
    "    def check_validation(self, node , solution):\n",
    "         if np.sum(solution == node) == 1:\n",
    "            return 1\n",
    "         else:\n",
    "            return 0\n",
    "\n",
    "    def evaluate_solution(self, return_value=False):\n",
    "        total_length = 0\n",
    "        from_node_id = self.solution[0] # starting_node\n",
    "        for node_id in self.solution[1:]:\n",
    "            edge_distance = self.problem_instance.dist_matrix[from_node_id, node_id]\n",
    "            total_length += edge_distance\n",
    "            from_node_id = node_id\n",
    "        self.found_length = total_length + self.problem_instance.dist_matrix[self.solution[0], from_node_id]       \n",
    "        if return_value:\n",
    "            return total_length\n",
    "\n",
    "    def _gap(self):\n",
    "        self.evaluate_solution(return_value=False)\n",
    "        self.gap = np.round(\n",
    "            ((self.found_length - self.problem_instance.best_sol) / self.problem_instance.best_sol) * 100, 2)\n"
   ]
  },
  {
   "cell_type": "markdown",
   "metadata": {
    "id": "umtC2uwz2_ag"
   },
   "source": [
    "----------------------------\n",
    "Now we will test our code"
   ]
  },
  {
   "cell_type": "code",
   "execution_count": null,
   "metadata": {
    "colab": {
     "base_uri": "https://localhost:8080/",
     "height": 642
    },
    "id": "PT-rZMKf2_ag",
    "outputId": "d690bd7f-d50c-44ac-b652-2d7595acbe85"
   },
   "outputs": [],
   "source": [
    "\n",
    "# here I'm repeating this two lines just to remind you which problem we are using\n",
    "example_problem = \"../problems/eil76.tsp\"\n",
    "p_inst = ProblemInstance(example_problem)\n",
    "available_methods = {\"random\": random_method}\n",
    "solver_name=\"random\"\n",
    "# TODO\n",
    "# 1. create an instance of SolverTSP\n",
    "solver = SolverTSP(solver_name, p_inst)\n",
    "# 2. compute a solution\n",
    "solver.compute_solution()\n",
    "# 3. print the information as for the output\n",
    "print(f\"the total length for the solution found is {solver.found_length}\",\n",
    "      f\"while the optimal length is {solver.problem_instance.best_sol}\",\n",
    "      f\"the gap is {solver.gap}%\",\n",
    "      f\"the solution is found in {solver.duration} seconds\", sep=\"\\n\")\n",
    "# 4. plot the solution\n",
    "solver.plot_solution()\n",
    "# this is the output expected and after that the solution's plot\n",
    "\"\"\"\n",
    "###  solving with random  ####\n",
    "###  solved  ####\n",
    "the total length for the solution found is 2424.0\n",
    "while the optimal length is 538.0\n",
    "the gap is 350.56%\n",
    "the solution is found in 0.0 seconds\n",
    "\"\"\""
   ]
  },
  {
   "cell_type": "markdown",
   "metadata": {
    "id": "8dUGFPw32_ag"
   },
   "source": [
    "--------------------\n",
    "Finally since our example problem has an optimal solution we can plot it"
   ]
  },
  {
   "cell_type": "code",
   "execution_count": null,
   "metadata": {
    "colab": {
     "base_uri": "https://localhost:8080/",
     "height": 499
    },
    "id": "x4cGJOqB2_ag",
    "outputId": "4f1c9cb5-874d-40fe-cc6a-3d9387aaf223"
   },
   "outputs": [],
   "source": [
    "solver = SolverTSP(\"optimal\", p_inst)\n",
    "solver.solved = True\n",
    "solver.solution = np.concatenate([p_inst.optimal_tour, [p_inst.optimal_tour[0]]])\n",
    "solver.plot_solution()"
   ]
  }
 ],
 "metadata": {
  "colab": {
   "name": "Student_lecture 1.ipynb",
   "provenance": []
  },
  "kernelspec": {
   "display_name": "Python 3",
   "language": "python",
   "name": "python3"
  },
  "language_info": {
   "codemirror_mode": {
    "name": "ipython",
    "version": 3
   },
   "file_extension": ".py",
   "mimetype": "text/x-python",
   "name": "python",
   "nbconvert_exporter": "python",
   "pygments_lexer": "ipython3",
   "version": "3.8.7"
  }
 },
 "nbformat": 4,
 "nbformat_minor": 0
}
